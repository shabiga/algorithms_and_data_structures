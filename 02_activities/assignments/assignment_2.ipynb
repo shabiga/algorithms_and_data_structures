{
 "cells": [
  {
   "cell_type": "markdown",
   "metadata": {},
   "source": [
    "# Practice Interview\n",
    "\n",
    "## Objective\n",
    "\n",
    "_*The partner assignment aims to provide participants with the opportunity to practice coding in an interview context. You will analyze your partner's Assignment 1. Moreover, code reviews are common practice in a software development team. This assignment should give you a taste of the code review process.*_\n",
    "\n",
    "## Group Size\n",
    "\n",
    "Each group should have 2 people. You will be assigned a partner\n",
    "\n",
    "## Part 1:\n",
    "\n",
    "You and your partner must share each other's Assignment 1 submission."
   ]
  },
  {
   "cell_type": "markdown",
   "metadata": {},
   "source": [
    "\n",
    "## Part 2:\n",
    "\n",
    "Create a Jupyter Notebook, create 6 of the following headings, and complete the following for your partner's assignment 1:\n",
    "\n",
    "-   Paraphrase the problem in your own words.\n"
   ]
  },
  {
   "cell_type": "code",
   "execution_count": 1,
   "metadata": {},
   "outputs": [],
   "source": [
    "# Your answer here\n",
    "#The task is to find any missing numbers within a given list of integers. These integers are supposed to cover the range from 0 to n, but some might be missing. If there are no missing numbers, the function should return -1. "
   ]
  },
  {
   "cell_type": "markdown",
   "metadata": {},
   "source": [
    "\n",
    "-   Create 1 new example that demonstrates you understand the problem. Trace/walkthrough 1 example that your partner made and explain it.\n"
   ]
  },
  {
   "cell_type": "code",
   "execution_count": 7,
   "metadata": {},
   "outputs": [
    {
     "name": "stdout",
     "output_type": "stream",
     "text": [
      "[0, 6]\n"
     ]
    }
   ],
   "source": [
    "# Your answer here\n",
    "\n",
    "#Example 1 \n",
    "print(missing_num([3, 7, 1, 2, 8, 4, 5]))\n",
    "\n",
    "#In missing_num([6, 8, 2, 3, 5, 7, 0, 1, 10]), the function first determines the range [0, 10] based on the list length and maximum value. It identifies which numbers from this range are missing in the input list [6, 8, 2, 3, 5, 7, 0, 1, 10], using set operations to find {4, 9}. Sorting these missing numbers yields [4, 9], which are returned as the result, showcasing the function's capability to accurately pinpoint absent integers within a specified range."
   ]
  },
  {
   "cell_type": "markdown",
   "metadata": {},
   "source": [
    "\n",
    "-   Copy the solution your partner wrote. \n"
   ]
  },
  {
   "cell_type": "code",
   "execution_count": 12,
   "metadata": {},
   "outputs": [],
   "source": [
    "# Your answer here\n",
    "def missing_num(nums: list) -> list:\n",
    "    if not nums:\n",
    "        return -1  # Handle the case where the input list is empty\n",
    "    \n",
    "    # Calculate the range of numbers based on the maximum value in the list\n",
    "    n = max(nums)\n",
    "    full_range = set(range(n + 1))\n",
    "    \n",
    "    # Convert the list to a set to remove duplicates and find the difference\n",
    "    nums_set = set(nums)\n",
    "    missing_numbers = sorted(full_range - nums_set)\n",
    "    \n",
    "    # Return the missing numbers or -1 if there are none\n",
    "    return missing_numbers if missing_numbers else -1\n"
   ]
  },
  {
   "cell_type": "markdown",
   "metadata": {},
   "source": [
    "\n",
    "-   Explain why their solution works in your own words.\n"
   ]
  },
  {
   "cell_type": "code",
   "execution_count": 8,
   "metadata": {},
   "outputs": [],
   "source": [
    "# Your answer here\n",
    "#The solution works by creating sets of expected numbers from 0 to the maximum number in the input list and the actual numbers present. It identifies missing numbers by computing the difference between these sets. If no numbers are missing, it returns -1. This method efficiently handles duplicates and unordered input, ensuring correctness and scalability."
   ]
  },
  {
   "cell_type": "markdown",
   "metadata": {},
   "source": [
    "\n",
    "-   Explain the problem’s time and space complexity in your own words.\n"
   ]
  },
  {
   "cell_type": "code",
   "execution_count": 9,
   "metadata": {},
   "outputs": [],
   "source": [
    "# Your answer here\n",
    "#The solution operates in O(n) time complexity, where n is the maximum number in the input list, due to set operations for checking membership and finding differences. It also uses O(n) additional space in the worst case to store elements in sets, ensuring efficient handling of duplicates and unordered input while identifying missing numbers."
   ]
  },
  {
   "cell_type": "markdown",
   "metadata": {},
   "source": [
    "\n",
    "-   Critique your partner's solution, including explanation, and if there is anything that should be adjusted.\n"
   ]
  },
  {
   "cell_type": "code",
   "execution_count": 10,
   "metadata": {},
   "outputs": [],
   "source": [
    "# Your answer here\n",
    "#My partner's solution accurately identifies missing numbers within a specified range and handles an empty input list by returning -1. However, it assumes non-negative numbers and may not correctly handle negative values. Sorting the list of missing numbers could be unnecessary depending on requirements, which might increase computational overhead. Optimizing memory usage, especially for large inputs, would further enhance the solution's efficiency."
   ]
  },
  {
   "cell_type": "markdown",
   "metadata": {},
   "source": [
    "\n",
    "## Part 3:\n",
    "\n",
    "Please write a 200 word reflection documenting your process from assignment 1, and your presentation and review experience with your partner at the bottom of the Jupyter Notebook under a new heading \"Reflection.\" Again, export this Notebook as pdf.\n"
   ]
  },
  {
   "cell_type": "markdown",
   "metadata": {},
   "source": [
    "### Reflection"
   ]
  },
  {
   "cell_type": "code",
   "execution_count": 11,
   "metadata": {},
   "outputs": [],
   "source": [
    "# Your answer here\n",
    "#In tackling Assignment 1, I engaged deeply with the problem of identifying missing numbers within a specified range from a list of integers. Initially, my focus was on deciphering the problem constraints, particularly handling duplicates and efficiently determining absent numbers. Opting for Python's set data structure was a strategic choice due to its O(1) average-time complexity for membership checks and set operations like differences. Implementing the solution involved iterating through the list to populate sets of expected and actual numbers, followed by computing the difference to identify missing numbers or returning -1 if none were found. This method proved robust, ensuring accuracy and scalability across various input sizes.\n",
    "\n",
    "#During the presentation and review session with my partner, we engaged in a fruitful discussion on different approaches to solving the problem. We explored edge cases and considered optimizations, exchanging ideas that enhanced our understanding of set operations and algorithmic efficiency. Comparing my approach with my partner's solution underscored the importance of clarity in code structure and handling diverse input scenarios. This collaboration not only deepened my grasp of Python's set functionalities but also reinforced the value of collaborative problem-solving and peer feedback in refining solutions for clarity and performance."
   ]
  },
  {
   "cell_type": "markdown",
   "metadata": {},
   "source": [
    "\n",
    "## Evaluation Criteria\n",
    "\n",
    "We are looking for the similar points as Assignment 1\n",
    "\n",
    "-   Problem is accurately stated\n",
    "\n",
    "-   New example is correct and easily understandable\n",
    "\n",
    "-   Correctness, time, and space complexity of the coding solution\n",
    "\n",
    "-   Clarity in explaining why the solution works, its time and space complexity\n",
    "\n",
    "-   Quality of critique of your partner's assignment, if necessary\n"
   ]
  },
  {
   "cell_type": "markdown",
   "metadata": {},
   "source": [
    "## Submission Information\n",
    "\n",
    "🚨 **Please review our [Assignment Submission Guide](https://github.com/UofT-DSI/onboarding/blob/main/onboarding_documents/submissions.md)** 🚨 for detailed instructions on how to format, branch, and submit your work. Following these guidelines is crucial for your submissions to be evaluated correctly.\n",
    "\n",
    "### Submission Parameters:\n",
    "* Submission Due Date: `HH:MM AM/PM - DD/MM/YYYY`\n",
    "* The branch name for your repo should be: `assignment-2`\n",
    "* What to submit for this assignment:\n",
    "    * This Jupyter Notebook (assignment_2.ipynb) should be populated and should be the only change in your pull request.\n",
    "* What the pull request link should look like for this assignment: `https://github.com/<your_github_username>/algorithms_and_data_structures/pull/<pr_id>`\n",
    "    * Open a private window in your browser. Copy and paste the link to your pull request into the address bar. Make sure you can see your pull request properly. This helps the technical facilitator and learning support staff review your submission easily.\n",
    "\n",
    "Checklist:\n",
    "- [ ] Created a branch with the correct naming convention.\n",
    "- [ ] Ensured that the repository is public.\n",
    "- [ ] Reviewed the PR description guidelines and adhered to them.\n",
    "- [ ] Verify that the link is accessible in a private browser window.\n",
    "\n",
    "If you encounter any difficulties or have questions, please don't hesitate to reach out to our team via our Slack at `#cohort-3-help`. Our Technical Facilitators and Learning Support staff are here to help you navigate any challenges.\n"
   ]
  }
 ],
 "metadata": {
  "kernelspec": {
   "display_name": "dsi_participant",
   "language": "python",
   "name": "python3"
  },
  "language_info": {
   "codemirror_mode": {
    "name": "ipython",
    "version": 3
   },
   "file_extension": ".py",
   "mimetype": "text/x-python",
   "name": "python",
   "nbconvert_exporter": "python",
   "pygments_lexer": "ipython3",
   "version": "3.9.19"
  }
 },
 "nbformat": 4,
 "nbformat_minor": 2
}
